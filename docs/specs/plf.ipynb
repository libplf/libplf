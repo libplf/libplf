{
 "cells": [
  {
   "cell_type": "markdown",
   "metadata": {},
   "source": [
    "# Piecewise Linear Function"
   ]
  },
  {
   "cell_type": "markdown",
   "metadata": {},
   "source": [
    "$$\n",
    "\\begin{aligned}\n",
    "    & \\forall m,n \\in \\mathbb{N}_{+}: \\\\\n",
    "    & \\qquad \\mathbb{F}^{m \\rightarrow n} =\n",
    "    \\left \\{\n",
    "    \\begin{aligned}\n",
    "        \\mathcal{S}^{m \\rightarrow n} \\subset \\mathbb{S}^{m \\rightarrow n} | & \\forall \\mathcal{P}_i^{m \\rightarrow n} \\in \\mathcal{S}^{m \\rightarrow n}, \\mathcal{P}_j^{m \\rightarrow n} \\in \\mathcal{S}^{m \\rightarrow n}, \\mathbf{p} \\in \\mathbb{R}^m, \\\\\n",
    "         & \\lambda_{\\mathcal{P}_i^{m \\rightarrow n}}(\\mathbf{p}) \\in {[0,1]}^m, \\lambda_{\\mathcal{P}_j^{m \\rightarrow n}}(\\mathbf{p}) \\in {[0,1]}^m: \\\\\n",
    "        & \\qquad f_{\\mathcal{P}_i^{m \\rightarrow n}}(\\mathbf{p}) = f_{\\mathcal{P}_j^{m \\rightarrow n}}(\\mathbf{p}) \\\\\n",
    "    \\end{aligned}\n",
    "    \\right \\} \\\\\n",
    "    & \\text{where}: \\\\\n",
    "    & \\qquad \\mathbb{S}^{m \\rightarrow n} =\n",
    "    \\{\n",
    "    \\mathcal{P}^{m \\rightarrow n} \\subset \\mathbb{R}^m \\times \\mathbb{R}^n |\n",
    "    \\| \\mathcal{P}^{m \\rightarrow n} \\| = m + 1,\n",
    "    \\det \\mathbf{R}_{\\mathcal{P}^{m \\rightarrow n}} \\ne 0\n",
    "    \\} \\\\\n",
    "    & \\qquad \\lambda_{\\mathcal{P}^{m \\rightarrow n}}(\\mathbf{p}) =\n",
    "    \\mathbf{R}_{\\mathcal{P}^{m \\rightarrow n}}^{-1}\n",
    "    \\begin{bmatrix}\n",
    "        \\mathbf{p}^T \\\\\n",
    "        1 \\\\\n",
    "    \\end{bmatrix} \\\\\n",
    "    & \\qquad f_{\\mathcal{P}^{m \\rightarrow n}}(\\mathbf{p}) =\n",
    "    \\begin{cases}\n",
    "        \\mathbf{T}_{\\mathcal{P}^{m \\rightarrow n}} \\lambda_{\\mathcal{P}^{m \\rightarrow n}}(\\mathbf{p}) & \\lambda_{\\mathcal{P}^{m \\rightarrow n}}(\\mathbf{p}) \\in {[0,1]}^m \\\\\n",
    "        \\text{undefined} & \\text{else} \\\\\n",
    "    \\end{cases} \\\\\n",
    "    & \\qquad \\mathbf{R}_{\\mathcal{P}^{m \\rightarrow n}} =\n",
    "    \\begin{bmatrix}\n",
    "        \\mathbf{p}_1^T & \\mathbf{p}_2^T & \\dotsc & \\mathbf{p}_i^T & \\dotsc & \\mathbf{p}_j^T & \\dotsc & \\mathbf{p}_{m+1}^T \\\\\n",
    "        1 & 1 & \\dotsc & 1 & \\dotsc & 1 & \\dotsc & 1 \\\\\n",
    "    \\end{bmatrix} \\\\\n",
    "    & \\qquad \\mathbf{T}_{\\mathcal{P}^{m \\rightarrow n}} =\n",
    "    \\begin{bmatrix}\n",
    "        \\mathbf{q}_1^T & \\mathbf{q}_2^T & \\dotsc & \\mathbf{q}_i^T & \\dotsc & \\mathbf{q}_j^T & \\dotsc & \\mathbf{q}_{m+1}^T \\\\\n",
    "    \\end{bmatrix} \\\\\n",
    "    & \\qquad \\text{for}:\\\\\n",
    "    & \\qquad \\qquad \\forall i \\in [1, m+1]:\n",
    "        \\begin{bmatrix}\n",
    "            \\mathbf{p}_i & \\mathbf{q}_i\n",
    "        \\end{bmatrix} \\in \\mathcal{P}^{m \\rightarrow n},\n",
    "        \\mathbf{p}_i \\in \\mathbb{R}^m,\n",
    "        \\mathbf{q}_i \\in \\mathbb{R}^n \\\\\n",
    "    & \\qquad \\qquad \\forall i \\in [1, m+1], j \\in [1, m+1], i \\ne j:\n",
    "    \\begin{bmatrix}\n",
    "        \\mathbf{p}_i & \\mathbf{q}_i\n",
    "    \\end{bmatrix}\n",
    "    \\ne\n",
    "    \\begin{bmatrix}\n",
    "            \\mathbf{p}_j & \\mathbf{q}_j\n",
    "    \\end{bmatrix} \\\\\n",
    "    & \\text{then}: \\\\\n",
    "    & \\qquad \\forall \\mathcal{F}^{m \\rightarrow n} \\in \\mathbb{F}^{m \\rightarrow n}, \\mathbf{p} \\in \\mathbb{R}^m: \\\\\n",
    "    & \\qquad \\qquad f_{\\mathcal{F}^{m \\rightarrow n}}(\\mathbf{p}) =\n",
    "    \\begin{cases}\n",
    "        f_{\\mathcal{P}^{m \\rightarrow n}}(\\mathbf{p}) & \\exists \\mathcal{P}^{m \\rightarrow n} \\in \\mathcal{F}^{m \\rightarrow n}: \\lambda_{\\mathcal{P}^{m \\rightarrow n}}(\\mathbf{p}) \\in {[0,1]}^m \\\\\n",
    "        \\text{undefined} & \\text{else} \\\\\n",
    "    \\end{cases} \\\\\n",
    "\\end{aligned} \\\\\n",
    "$$"
   ]
  }
 ],
 "metadata": {
  "kernelspec": {
   "display_name": "Python 3",
   "language": "python",
   "name": "python3"
  },
  "language_info": {
   "codemirror_mode": {
    "name": "ipython",
    "version": 3
   },
   "file_extension": ".py",
   "mimetype": "text/x-python",
   "name": "python",
   "nbconvert_exporter": "python",
   "pygments_lexer": "ipython3",
   "version": "3.8.1"
  }
 },
 "nbformat": 4,
 "nbformat_minor": 4
}
